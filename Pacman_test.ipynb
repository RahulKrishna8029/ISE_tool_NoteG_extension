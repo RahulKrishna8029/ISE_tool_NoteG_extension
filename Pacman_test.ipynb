{
 "cells": [
  {
   "cell_type": "code",
   "execution_count": 1,
   "id": "a17b4c3f",
   "metadata": {},
   "outputs": [
    {
     "name": "stdout",
     "output_type": "stream",
     "text": [
      "Requirement already satisfied: pygame in c:\\users\\user\\anaconda3\\lib\\site-packages (2.3.0)\n",
      "Requirement already satisfied: numpy in c:\\users\\user\\anaconda3\\lib\\site-packages (1.24.2)\n"
     ]
    },
    {
     "name": "stderr",
     "output_type": "stream",
     "text": [
      "ERROR: Could not find a version that satisfies the requirement metakernal (from versions: none)\n",
      "ERROR: No matching distribution found for metakernal\n"
     ]
    },
    {
     "name": "stdout",
     "output_type": "stream",
     "text": [
      "Requirement already satisfied: tcod in c:\\users\\user\\anaconda3\\lib\\site-packages (15.0.1)\n",
      "Requirement already satisfied: typing-extensions in c:\\users\\user\\anaconda3\\lib\\site-packages (from tcod) (3.10.0.2)\n",
      "Requirement already satisfied: cffi>=1.15 in c:\\users\\user\\anaconda3\\lib\\site-packages (from tcod) (1.15.1)\n",
      "Requirement already satisfied: numpy>=1.21.4 in c:\\users\\user\\anaconda3\\lib\\site-packages (from tcod) (1.24.2)\n",
      "Requirement already satisfied: pycparser in c:\\users\\user\\anaconda3\\lib\\site-packages (from cffi>=1.15->tcod) (2.20)\n",
      "pygame 2.3.0 (SDL 2.24.2, Python 3.9.7)\n",
      "Hello from the pygame community. https://www.pygame.org/contribute.html\n",
      "pygame 2.3.0 (SDL 2.24.2, Python 3.9.7)\n",
      "Hello from the pygame community. https://www.pygame.org/contribute.html\n"
     ]
    }
   ],
   "source": [
    "%run NoteG_for_pacman.ipynb"
   ]
  },
  {
   "cell_type": "code",
   "execution_count": 9,
   "id": "f3be1aa7",
   "metadata": {},
   "outputs": [],
   "source": [
    "pacman_game=PacmanGameController()\n",
    "unified_size=32"
   ]
  },
  {
   "cell_type": "code",
   "execution_count": 10,
   "id": "0a68dba0",
   "metadata": {},
   "outputs": [],
   "source": [
    "size=pacman_game.size\n",
    "game_renderer=GameRenderer(size[0]*unified_size,size[1]*unified_size)"
   ]
  },
  {
   "cell_type": "code",
   "execution_count": 11,
   "id": "2b99f7f8",
   "metadata": {},
   "outputs": [],
   "source": [
    "for y, row in enumerate(pacman_game.numpy_maze):\n",
    "        for x, column in enumerate(row):\n",
    "            if column == 0:\n",
    "                game_renderer.add_wall(Wall(game_renderer, x, y, unified_size))\n",
    "\n",
    "for cookie_space in pacman_game.cookie_spaces:\n",
    "    translated = translate_maze_to_screen(cookie_space)\n",
    "    cookie = Cookie(game_renderer, translated[0] + unified_size / 2, translated[1] + unified_size / 2)\n",
    "    game_renderer.add_cookie(cookie)\n",
    "\n",
    "for powerup_space in pacman_game.powerup_spaces:\n",
    "    translated = translate_maze_to_screen(powerup_space)\n",
    "    powerup = Powerup(game_renderer, translated[0] + unified_size / 2, translated[1] + unified_size / 2)\n",
    "    game_renderer.add_powerup(powerup)\n",
    "\n",
    "for i, ghost_spawn in enumerate(pacman_game.ghost_spawns):\n",
    "    translated = translate_maze_to_screen(ghost_spawn)\n",
    "    ghost = Ghost(game_renderer, translated[0], translated[1], unified_size, pacman_game,\n",
    "                      pacman_game.ghost_colors[i % 4])\n",
    "    game_renderer.add_ghost(ghost)"
   ]
  },
  {
   "cell_type": "code",
   "execution_count": null,
   "id": "b393a061",
   "metadata": {},
   "outputs": [
    {
     "name": "stdout",
     "output_type": "stream",
     "text": [
      "Current phase: 0, current_phase_timings: (7, 20)\n",
      "Current phase: 1, current_phase_timings: (7, 20)\n",
      "Current phase: 1, current_phase_timings: (7, 20)\n",
      "Current phase: 2, current_phase_timings: (5, 20)\n",
      "Current phase: 2, current_phase_timings: (5, 20)\n",
      "Current phase: 3, current_phase_timings: (5, 999999)\n"
     ]
    }
   ],
   "source": [
    "pacman = Hero(game_renderer, unified_size, unified_size, unified_size)\n",
    "game_renderer.add_hero(pacman)\n",
    "game_renderer.set_current_mode(GhostMovement.CHASE)\n",
    "game_renderer.tick(120)\n",
    "game_renderer.set_current_mode(GhostMovement.SCATTER)"
   ]
  },
  {
   "cell_type": "code",
   "execution_count": null,
   "id": "e9a7797d",
   "metadata": {},
   "outputs": [],
   "source": [
    " "
   ]
  }
 ],
 "metadata": {
  "kernelspec": {
   "display_name": "Python 3 (ipykernel)",
   "language": "python",
   "name": "python3"
  },
  "language_info": {
   "codemirror_mode": {
    "name": "ipython",
    "version": 3
   },
   "file_extension": ".py",
   "mimetype": "text/x-python",
   "name": "python",
   "nbconvert_exporter": "python",
   "pygments_lexer": "ipython3",
   "version": "3.9.7"
  }
 },
 "nbformat": 4,
 "nbformat_minor": 5
}
